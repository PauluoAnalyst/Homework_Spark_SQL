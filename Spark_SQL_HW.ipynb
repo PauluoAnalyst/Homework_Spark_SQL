{
  "nbformat": 4,
  "nbformat_minor": 0,
  "metadata": {
    "colab": {
      "provenance": []
    },
    "kernelspec": {
      "name": "python3",
      "display_name": "Python 3"
    },
    "language_info": {
      "name": "python"
    }
  },
  "cells": [
    {
      "cell_type": "code",
      "source": [
        "!apt-get install openjdk-8-jdk-headless -qq > /dev/null\n",
        "!wget -q https://downloads.apache.org/spark/spark-3.4.2/spark-3.4.2-bin-hadoop3.tgz\n",
        "!tar xf spark-3.4.2-bin-hadoop3.tgz\n",
        "!pip install -q findspark"
      ],
      "metadata": {
        "id": "Rfb0tFNVbQHd"
      },
      "execution_count": 7,
      "outputs": []
    },
    {
      "cell_type": "code",
      "source": [
        "import os\n",
        "os.environ[\"JAVA_HOME\"] = \"/usr/lib/jvm/java-8-openjdk-amd64\"\n",
        "os.environ[\"SPARK_HOME\"] = \"/content/spark-3.4.2-bin-hadoop3\"\n",
        "import findspark\n",
        "findspark.init()\n",
        "from pyspark.sql import SparkSession\n",
        "from pyspark.sql.functions import explode, split, col\n",
        "from pyspark import SparkContext\n",
        "from pyspark.sql.functions import *\n",
        "from pyspark.sql.window import Window"
      ],
      "metadata": {
        "id": "lLFQZ6q0b6wG"
      },
      "execution_count": 30,
      "outputs": []
    },
    {
      "cell_type": "code",
      "source": [
        "spark = SparkSession.builder.master('local').appName('Covid Data Analysis').getOrCreate()"
      ],
      "metadata": {
        "id": "_pWtFcnIn2DW"
      },
      "execution_count": 10,
      "outputs": []
    },
    {
      "cell_type": "markdown",
      "source": [
        "# Выберите 15 стран с наибольшим процентом переболевших на 31 марта (в выходящем датасете необходимы колонки: iso_code, страна, процент переболевших)"
      ],
      "metadata": {
        "id": "MsItqMIYqdG1"
      }
    },
    {
      "cell_type": "code",
      "source": [
        "# Определение максимальной и минимальной дат\n",
        "\n",
        "df = (spark.read.option('header', True)\n",
        "                .option('sep', ',')\n",
        "                .option('inferSchema', True)\n",
        "                .csv('covid-data.csv'))\n",
        "\n",
        "max_date = df.agg(max(\"date\")).collect()[0][0]\n",
        "min_date = df.agg(min(\"date\")).collect()[0][0]\n",
        "\n",
        "print(f\"Максимальная дата в датасете: {max_date}, а минимальная: {min_date}\")"
      ],
      "metadata": {
        "colab": {
          "base_uri": "https://localhost:8080/"
        },
        "id": "_Jb3VdAas4xm",
        "outputId": "f6add8ac-35ac-4923-c13b-82dbfb0bf7e8"
      },
      "execution_count": 20,
      "outputs": [
        {
          "output_type": "stream",
          "name": "stdout",
          "text": [
            "Максимальная дата в датасете: 2021-04-17, а минимальная: 2020-01-01\n"
          ]
        }
      ]
    },
    {
      "cell_type": "code",
      "source": [
        "# Определим результат на 31/03/2020\n",
        "\n",
        "(df.where((col('date') == '2020-03-31')\n",
        "          & (~col('iso_code').like('%OWID_%')))\n",
        "   .select('iso_code',\n",
        "           col('location').alias('страна'),\n",
        "           (round((col('total_cases') - col('total_deaths')) / col('population') * 100, 3)).alias('процент переболевших'))\n",
        "   .orderBy(col('процент переболевших').desc())\n",
        "   .limit(15)\n",
        "   .show())"
      ],
      "metadata": {
        "colab": {
          "base_uri": "https://localhost:8080/"
        },
        "id": "yXGm8FumgBG3",
        "outputId": "55250709-ebd0-4b07-b6ca-82daa3e03deb"
      },
      "execution_count": 21,
      "outputs": [
        {
          "output_type": "stream",
          "name": "stdout",
          "text": [
            "+--------+-----------+--------------------+\n",
            "|iso_code|     страна|процент переболевших|\n",
            "+--------+-----------+--------------------+\n",
            "|     SMR| San Marino|               0.619|\n",
            "|     AND|    Andorra|               0.471|\n",
            "|     LUX| Luxembourg|               0.344|\n",
            "|     ISL|    Iceland|               0.332|\n",
            "|     CHE|Switzerland|               0.187|\n",
            "|     ESP|      Spain|               0.187|\n",
            "|     ITA|      Italy|               0.154|\n",
            "|     MCO|     Monaco|                0.13|\n",
            "|     AUT|    Austria|               0.112|\n",
            "|     BEL|    Belgium|               0.104|\n",
            "|     NOR|     Norway|               0.085|\n",
            "|     DEU|    Germany|               0.085|\n",
            "|     FRA|     France|               0.072|\n",
            "|     PRT|   Portugal|               0.071|\n",
            "|     NLD|Netherlands|               0.068|\n",
            "+--------+-----------+--------------------+\n",
            "\n"
          ]
        }
      ]
    },
    {
      "cell_type": "code",
      "source": [
        "# А также рейтинг стран по проценту переболевших на 31/03/2021\n",
        "\n",
        "(df.where((col('date') == '2021-03-31')\n",
        "          & (~col('iso_code').like('%OWID_%')))\n",
        "   .select('iso_code',\n",
        "           col('location').alias('страна'),\n",
        "           (round((col('total_cases') - col('total_deaths')) / col('population') * 100, 3)).alias('процент переболевших'))\n",
        "   .orderBy(col('процент переболевших').desc())\n",
        "   .limit(15)\n",
        "   .show())"
      ],
      "metadata": {
        "colab": {
          "base_uri": "https://localhost:8080/"
        },
        "id": "cJMpIiObtI42",
        "outputId": "0a880478-317b-4234-c681-fc91afdeacbb"
      },
      "execution_count": 22,
      "outputs": [
        {
          "output_type": "stream",
          "name": "stdout",
          "text": [
            "+--------+-------------+--------------------+\n",
            "|iso_code|       страна|процент переболевших|\n",
            "+--------+-------------+--------------------+\n",
            "|     AND|      Andorra|              15.395|\n",
            "|     MNE|   Montenegro|              14.321|\n",
            "|     CZE|      Czechia|              14.062|\n",
            "|     SMR|   San Marino|               13.69|\n",
            "|     SVN|     Slovenia|              10.176|\n",
            "|     LUX|   Luxembourg|               9.728|\n",
            "|     ISR|       Israel|               9.553|\n",
            "|     USA|United States|               9.036|\n",
            "|     SRB|       Serbia|               8.748|\n",
            "|     BHR|      Bahrain|               8.458|\n",
            "|     PAN|       Panama|               8.087|\n",
            "|     EST|      Estonia|               7.955|\n",
            "|     PRT|     Portugal|               7.893|\n",
            "|     SWE|       Sweden|               7.836|\n",
            "|     LTU|    Lithuania|               7.808|\n",
            "+--------+-------------+--------------------+\n",
            "\n"
          ]
        }
      ]
    },
    {
      "cell_type": "markdown",
      "source": [
        "# Top 10 стран с максимальным зафиксированным кол-вом новых случаев за последнюю неделю марта 2021 в отсортированном порядке по убыванию (в выходящем датасете необходимы колонки: число, страна, кол-во новых случаев)\n",
        "\n"
      ],
      "metadata": {
        "id": "wfPYPPwlqgZP"
      }
    },
    {
      "cell_type": "code",
      "source": [
        "(df.where((col('date').between('2021-03-28', '2021-03-31'))\n",
        "          & (~col('iso_code').like('%OWID_%')))\n",
        "   .orderBy(col('location'), col('new_cases').desc())\n",
        "   .groupBy(col('location')).agg(first('new_cases').alias('new_cases'), first('date').alias('date'))\n",
        "   .orderBy(col('new_cases').desc())\n",
        "   .select(date_format('date', 'yyyy-MM-dd').alias('число'),\n",
        "           col('location').alias('страна'),\n",
        "           col('new_cases').alias('кол-во новых случаев'))\n",
        "   .limit(10)\n",
        "   .show())"
      ],
      "metadata": {
        "colab": {
          "base_uri": "https://localhost:8080/"
        },
        "id": "7qrk8yv7u2Ca",
        "outputId": "2623ba04-4615-4cf1-cfc8-17f73aeec58e"
      },
      "execution_count": 25,
      "outputs": [
        {
          "output_type": "stream",
          "name": "stdout",
          "text": [
            "+----------+-------------+--------------------+\n",
            "|     число|       страна|кол-во новых случаев|\n",
            "+----------+-------------+--------------------+\n",
            "|2021-03-31|       Brazil|             90638.0|\n",
            "|2021-03-31|        India|             72330.0|\n",
            "|2021-03-29|United States|             69429.0|\n",
            "|2021-03-31|       France|             59054.0|\n",
            "|2021-03-31|       Turkey|             39302.0|\n",
            "|2021-03-31|       Poland|             32891.0|\n",
            "|2021-03-31|      Germany|             25014.0|\n",
            "|2021-03-31|        Italy|             23887.0|\n",
            "|2021-03-30|       Sweden|             16427.0|\n",
            "|2021-03-31|    Argentina|             16056.0|\n",
            "+----------+-------------+--------------------+\n",
            "\n"
          ]
        }
      ]
    },
    {
      "cell_type": "markdown",
      "source": [
        "# Посчитайте изменение случаев относительно предыдущего дня в России за последнюю неделю марта 2021. (например: в россии вчера было 9150 , сегодня 8763, итог: -387) (в выходящем датасете необходимы колонки: число, кол-во новых случаев вчера, кол-во новых случаев сегодня, дельта)"
      ],
      "metadata": {
        "id": "eSu7LQrgwhGE"
      }
    },
    {
      "cell_type": "code",
      "source": [
        "(df.where((col('date').between('2021-03-27', '2021-03-31'))\n",
        "          & (col('iso_code') == 'RUS'))\n",
        "   .withColumn(\"кол-во новых случаев вчера\",lag('new_cases').over(Window.orderBy(\"date\")))\n",
        "   .select(date_format('date', 'yyyy-MM-dd').alias('число'),\n",
        "           col('new_cases').alias('кол-во новых случаев сегодня'),\n",
        "           'кол-во новых случаев вчера',\n",
        "           (col('new_cases') - col('кол-во новых случаев вчера')).alias('дельта'))\n",
        "   .where(col('date') >= '2021-03-28')\n",
        "   .show())"
      ],
      "metadata": {
        "colab": {
          "base_uri": "https://localhost:8080/"
        },
        "id": "UYWXZBO8wicI",
        "outputId": "3c243082-2795-4619-b1a5-77193d258ddb"
      },
      "execution_count": 33,
      "outputs": [
        {
          "output_type": "stream",
          "name": "stdout",
          "text": [
            "+----------+----------------------------+--------------------------+------+\n",
            "|     число|кол-во новых случаев сегодня|кол-во новых случаев вчера|дельта|\n",
            "+----------+----------------------------+--------------------------+------+\n",
            "|2021-03-28|                      8979.0|                    8783.0| 196.0|\n",
            "|2021-03-29|                      8589.0|                    8979.0|-390.0|\n",
            "|2021-03-30|                      8162.0|                    8589.0|-427.0|\n",
            "|2021-03-31|                      8156.0|                    8162.0|  -6.0|\n",
            "+----------+----------------------------+--------------------------+------+\n",
            "\n"
          ]
        }
      ]
    }
  ]
}